{
  "nbformat": 4,
  "nbformat_minor": 0,
  "metadata": {
    "colab": {
      "provenance": []
    },
    "kernelspec": {
      "name": "python3",
      "display_name": "Python 3"
    },
    "language_info": {
      "name": "python"
    }
  },
  "cells": [
    {
      "cell_type": "code",
      "execution_count": 9,
      "metadata": {
        "id": "t_PN5gXK42wj"
      },
      "outputs": [],
      "source": [
        "import math"
      ]
    },
    {
      "cell_type": "code",
      "source": [
        "def add(x, y):\n",
        "    return x + y"
      ],
      "metadata": {
        "id": "Y_CzxRq_43mU"
      },
      "execution_count": 10,
      "outputs": []
    },
    {
      "cell_type": "code",
      "source": [
        "def subtract(x, y):\n",
        "    return x - y"
      ],
      "metadata": {
        "id": "k44pvqe149Gq"
      },
      "execution_count": 11,
      "outputs": []
    },
    {
      "cell_type": "code",
      "source": [
        "def multiply(x, y):\n",
        "    return x * y\n"
      ],
      "metadata": {
        "id": "WtTY1qQu49Hs"
      },
      "execution_count": 12,
      "outputs": []
    },
    {
      "cell_type": "code",
      "source": [
        "def divide(x, y):\n",
        "    if y == 0:\n",
        "        return \"Error! Division by zero.\"\n",
        "    return x / y"
      ],
      "metadata": {
        "id": "1x3XC0CO49JZ"
      },
      "execution_count": 13,
      "outputs": []
    },
    {
      "cell_type": "code",
      "source": [
        "def exponentiate(x, y):\n",
        "    return x ** y"
      ],
      "metadata": {
        "id": "0TmypYsu88yn"
      },
      "execution_count": 14,
      "outputs": []
    },
    {
      "cell_type": "code",
      "source": [
        "def modulus(x, y):\n",
        "    return x % y"
      ],
      "metadata": {
        "id": "MhKArjyD881-"
      },
      "execution_count": 15,
      "outputs": []
    },
    {
      "cell_type": "code",
      "source": [
        "def square_root(x):\n",
        "    if x < 0:\n",
        "        return \"Error! Cannot compute square root of a negative number.\"\n",
        "    return math.sqrt(x)"
      ],
      "metadata": {
        "id": "aUJbI9MF89mK"
      },
      "execution_count": 16,
      "outputs": []
    },
    {
      "cell_type": "code",
      "source": [
        "def calculator():\n",
        "    while True:\n",
        "        print(\"Simple Calculator\")\n",
        "        print(\"Select operation:\")\n",
        "        print(\"1. Add\")\n",
        "        print(\"2. Subtract\")\n",
        "        print(\"3. Multiply\")\n",
        "        print(\"4. Divide\")\n",
        "        print(\"5. Exponentiation\")\n",
        "        print(\"6. Modulus\")\n",
        "        print(\"7. Square Root\")\n",
        "        print(\"8. Exit\")\n",
        "\n",
        "        choice = input(\"Enter choice (1/2/3/4/5/6/7/8): \")\n",
        "\n",
        "        if choice == '8':\n",
        "            print(\"Exiting calculator. Goodbye!\")\n",
        "            break\n",
        "\n",
        "        if choice in ('1', '2', '3', '4', '5', '6'):\n",
        "            num1 = float(input(\"Enter first number: \"))\n",
        "            num2 = float(input(\"Enter second number: \"))\n",
        "\n",
        "            if choice == '1':\n",
        "                print(\"Result:\", add(num1, num2))\n",
        "            elif choice == '2':\n",
        "                print(\"Result:\", subtract(num1, num2))\n",
        "            elif choice == '3':\n",
        "                print(\"Result:\", multiply(num1, num2))\n",
        "            elif choice == '4':\n",
        "                print(\"Result:\", divide(num1, num2))\n",
        "            elif choice == '5':\n",
        "                print(\"Result:\", exponentiate(num1, num2))\n",
        "            elif choice == '6':\n",
        "                print(\"Result:\", modulus(num1, num2))\n",
        "        elif choice == '7':\n",
        "            num = float(input(\"Enter number: \"))\n",
        "            print(\"Result:\", square_root(num))\n",
        "        else:\n",
        "            print(\"Invalid input\")\n",
        "\n",
        "if __name__ == \"__main__\":\n",
        "    calculator()\n"
      ],
      "metadata": {
        "colab": {
          "base_uri": "https://localhost:8080/"
        },
        "id": "cQmcM-zK9HMg",
        "outputId": "0f5fa6cc-9a31-4fee-8083-b58457b157d9"
      },
      "execution_count": null,
      "outputs": [
        {
          "output_type": "stream",
          "name": "stdout",
          "text": [
            "Simple Calculator\n",
            "Select operation:\n",
            "1. Add\n",
            "2. Subtract\n",
            "3. Multiply\n",
            "4. Divide\n",
            "5. Exponentiation\n",
            "6. Modulus\n",
            "7. Square Root\n",
            "8. Exit\n",
            "Enter choice (1/2/3/4/5/6/7/8): 2+2\n",
            "Invalid input\n",
            "Simple Calculator\n",
            "Select operation:\n",
            "1. Add\n",
            "2. Subtract\n",
            "3. Multiply\n",
            "4. Divide\n",
            "5. Exponentiation\n",
            "6. Modulus\n",
            "7. Square Root\n",
            "8. Exit\n",
            "Enter choice (1/2/3/4/5/6/7/8): 3*2\n",
            "Invalid input\n",
            "Simple Calculator\n",
            "Select operation:\n",
            "1. Add\n",
            "2. Subtract\n",
            "3. Multiply\n",
            "4. Divide\n",
            "5. Exponentiation\n",
            "6. Modulus\n",
            "7. Square Root\n",
            "8. Exit\n",
            "Enter choice (1/2/3/4/5/6/7/8): 8/2\n",
            "Invalid input\n",
            "Simple Calculator\n",
            "Select operation:\n",
            "1. Add\n",
            "2. Subtract\n",
            "3. Multiply\n",
            "4. Divide\n",
            "5. Exponentiation\n",
            "6. Modulus\n",
            "7. Square Root\n",
            "8. Exit\n",
            "Enter choice (1/2/3/4/5/6/7/8): 8-2\n",
            "Invalid input\n",
            "Simple Calculator\n",
            "Select operation:\n",
            "1. Add\n",
            "2. Subtract\n",
            "3. Multiply\n",
            "4. Divide\n",
            "5. Exponentiation\n",
            "6. Modulus\n",
            "7. Square Root\n",
            "8. Exit\n",
            "Enter choice (1/2/3/4/5/6/7/8): 8|2\n",
            "Invalid input\n",
            "Simple Calculator\n",
            "Select operation:\n",
            "1. Add\n",
            "2. Subtract\n",
            "3. Multiply\n",
            "4. Divide\n",
            "5. Exponentiation\n",
            "6. Modulus\n",
            "7. Square Root\n",
            "8. Exit\n"
          ]
        }
      ]
    }
  ]
}